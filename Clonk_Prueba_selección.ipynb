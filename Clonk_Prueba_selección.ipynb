{
  "nbformat": 4,
  "nbformat_minor": 0,
  "metadata": {
    "colab": {
      "name": "Untitled4.ipynb",
      "provenance": [],
      "collapsed_sections": [],
      "toc_visible": true,
      "include_colab_link": true
    },
    "kernelspec": {
      "name": "python3",
      "display_name": "Python 3"
    }
  },
  "cells": [
    {
      "cell_type": "markdown",
      "metadata": {
        "id": "view-in-github",
        "colab_type": "text"
      },
      "source": [
        "<a href=\"https://colab.research.google.com/github/JECaballeroR/EmployeeTurnover/blob/main/Clonk_Prueba_selecci%C3%B3n.ipynb\" target=\"_parent\"><img src=\"https://colab.research.google.com/assets/colab-badge.svg\" alt=\"Open In Colab\"/></a>"
      ]
    },
    {
      "cell_type": "code",
      "metadata": {
        "colab": {
          "base_uri": "https://localhost:8080/"
        },
        "id": "07mlbrFDk_yN",
        "outputId": "35324b9a-5a23-4df6-c495-f5bb68389739"
      },
      "source": [
        "pip install ppscore"
      ],
      "execution_count": 1,
      "outputs": [
        {
          "output_type": "stream",
          "text": [
            "Requirement already satisfied: ppscore in /usr/local/lib/python3.6/dist-packages (1.2.0)\n",
            "Requirement already satisfied: pandas<2.0.0,>=1.0.0 in /usr/local/lib/python3.6/dist-packages (from ppscore) (1.1.5)\n",
            "Requirement already satisfied: scikit-learn<1.0.0,>=0.20.2 in /usr/local/lib/python3.6/dist-packages (from ppscore) (0.22.2.post1)\n",
            "Requirement already satisfied: python-dateutil>=2.7.3 in /usr/local/lib/python3.6/dist-packages (from pandas<2.0.0,>=1.0.0->ppscore) (2.8.1)\n",
            "Requirement already satisfied: pytz>=2017.2 in /usr/local/lib/python3.6/dist-packages (from pandas<2.0.0,>=1.0.0->ppscore) (2018.9)\n",
            "Requirement already satisfied: numpy>=1.15.4 in /usr/local/lib/python3.6/dist-packages (from pandas<2.0.0,>=1.0.0->ppscore) (1.19.5)\n",
            "Requirement already satisfied: scipy>=0.17.0 in /usr/local/lib/python3.6/dist-packages (from scikit-learn<1.0.0,>=0.20.2->ppscore) (1.4.1)\n",
            "Requirement already satisfied: joblib>=0.11 in /usr/local/lib/python3.6/dist-packages (from scikit-learn<1.0.0,>=0.20.2->ppscore) (1.0.0)\n",
            "Requirement already satisfied: six>=1.5 in /usr/local/lib/python3.6/dist-packages (from python-dateutil>=2.7.3->pandas<2.0.0,>=1.0.0->ppscore) (1.15.0)\n"
          ],
          "name": "stdout"
        }
      ]
    },
    {
      "cell_type": "code",
      "metadata": {
        "id": "nzXQEXNfk8k8"
      },
      "source": [
        "import ppscore as pps\r\n",
        "import pandas as pd\r\n",
        "import numpy as np\r\n",
        "import seaborn as sns\r\n",
        "import matplotlib.pyplot as plt\r\n",
        "\r\n",
        "\r\n",
        "from sklearn.pipeline import make_pipeline\r\n",
        "from sklearn.model_selection import  GridSearchCV, train_test_split\r\n",
        "from sklearn.preprocessing import StandardScaler\r\n",
        "from sklearn import metrics\r\n",
        "from sklearn.metrics import (f1_score, roc_auc_score, precision_recall_curve, \r\n",
        "                            roc_curve, confusion_matrix, classification_report, \r\n",
        "                            accuracy_score)\r\n",
        "from sklearn.linear_model import LogisticRegression\r\n",
        "from sklearn.ensemble import RandomForestClassifier\r\n",
        "from sklearn.svm import SVC\r\n",
        "from sklearn.utils import resample\r\n",
        "from sklearn.neighbors import KNeighborsClassifier\r\n",
        "\r\n",
        "from warnings import filterwarnings\r\n",
        "\r\n",
        "filterwarnings(\"ignore\")\r\n"
      ],
      "execution_count": 2,
      "outputs": []
    },
    {
      "cell_type": "markdown",
      "metadata": {
        "id": "fLl1ddeDnRJc"
      },
      "source": [
        "# Preparación de datos\r\n",
        "##Carga y exploración básica\r\n",
        "\r\n",
        "\r\n",
        "Los features del dataset son:\r\n",
        "* **satisfaction_level**: Nivel de Satisfacción, de 0 a 1 (Flotante).\r\n",
        "* **last_evaluationTime**: Años desde la última evaluación de desempeño (Flotante)\r\n",
        "* **number_project**:Cantidad de proyectos terminados durante la vinculación laboral (Entera)\r\n",
        "* **average_montly_hours**: Horas promedio mensuales trabajadas (Entera)\r\n",
        "* **time_spend_company**: Años de vinculación en la compañía (Entera)\r\n",
        "* **Work_accident**: Si el empleado tuvo o no Accidente de trabajo (Binaria)\r\n",
        "* **left**: Si el empleado dejo o no el trabajo (Variable Respuesta) (Binaria)\r\n",
        "* **promotion_last_5years**: Si el empleado tuvo o no un ascenso en los últimos 5 años (Binaria).\r\n",
        "* **sales**: Departamento al que el empleado estuvo vinculado (Categórica).\r\n",
        "* **salary**: Nivel relativo del salario (low, medium, high) (Categórica)\r\n",
        "\r\n",
        "\r\n",
        "\r\n",
        "Se cargan los datos y se validan ciertos elementos, a saber:\r\n",
        "\r\n",
        "*   Que no haya datos faltantes \r\n",
        "*   Que todos los datos sean coherentes con las variables\r\n",
        "*   Que la variable respuesta este balanceada \r\n",
        "\r\n",
        "Después de estas validaciones iniciales, se modifican los nombres de las variables para su interpretabilidad y se realiza un Análisis de Datos Exploratorio para conocer mejor el dataset.\r\n"
      ]
    },
    {
      "cell_type": "code",
      "metadata": {
        "colab": {
          "base_uri": "https://localhost:8080/"
        },
        "id": "FeTMfmxImpIb",
        "outputId": "56225e43-c864-45fa-99d9-17e5f8dadf6b"
      },
      "source": [
        "#Se carga y presentan los datos\r\n",
        "df=pd.read_csv(\"HR_comma_sep.csv\")\r\n",
        "df"
      ],
      "execution_count": 3,
      "outputs": [
        {
          "output_type": "execute_result",
          "data": {
            "text/html": [
              "<div>\n",
              "<style scoped>\n",
              "    .dataframe tbody tr th:only-of-type {\n",
              "        vertical-align: middle;\n",
              "    }\n",
              "\n",
              "    .dataframe tbody tr th {\n",
              "        vertical-align: top;\n",
              "    }\n",
              "\n",
              "    .dataframe thead th {\n",
              "        text-align: right;\n",
              "    }\n",
              "</style>\n",
              "<table border=\"1\" class=\"dataframe\">\n",
              "  <thead>\n",
              "    <tr style=\"text-align: right;\">\n",
              "      <th></th>\n",
              "      <th>satisfaction_level</th>\n",
              "      <th>last_evaluation</th>\n",
              "      <th>number_project</th>\n",
              "      <th>average_montly_hours</th>\n",
              "      <th>time_spend_company</th>\n",
              "      <th>Work_accident</th>\n",
              "      <th>left</th>\n",
              "      <th>promotion_last_5years</th>\n",
              "      <th>sales</th>\n",
              "      <th>salary</th>\n",
              "    </tr>\n",
              "  </thead>\n",
              "  <tbody>\n",
              "    <tr>\n",
              "      <th>0</th>\n",
              "      <td>0.38</td>\n",
              "      <td>0.53</td>\n",
              "      <td>2</td>\n",
              "      <td>157</td>\n",
              "      <td>3</td>\n",
              "      <td>0</td>\n",
              "      <td>1</td>\n",
              "      <td>0</td>\n",
              "      <td>sales</td>\n",
              "      <td>low</td>\n",
              "    </tr>\n",
              "    <tr>\n",
              "      <th>1</th>\n",
              "      <td>0.80</td>\n",
              "      <td>0.86</td>\n",
              "      <td>5</td>\n",
              "      <td>262</td>\n",
              "      <td>6</td>\n",
              "      <td>0</td>\n",
              "      <td>1</td>\n",
              "      <td>0</td>\n",
              "      <td>sales</td>\n",
              "      <td>medium</td>\n",
              "    </tr>\n",
              "    <tr>\n",
              "      <th>2</th>\n",
              "      <td>0.11</td>\n",
              "      <td>0.88</td>\n",
              "      <td>7</td>\n",
              "      <td>272</td>\n",
              "      <td>4</td>\n",
              "      <td>0</td>\n",
              "      <td>1</td>\n",
              "      <td>0</td>\n",
              "      <td>sales</td>\n",
              "      <td>medium</td>\n",
              "    </tr>\n",
              "    <tr>\n",
              "      <th>3</th>\n",
              "      <td>0.72</td>\n",
              "      <td>0.87</td>\n",
              "      <td>5</td>\n",
              "      <td>223</td>\n",
              "      <td>5</td>\n",
              "      <td>0</td>\n",
              "      <td>1</td>\n",
              "      <td>0</td>\n",
              "      <td>sales</td>\n",
              "      <td>low</td>\n",
              "    </tr>\n",
              "    <tr>\n",
              "      <th>4</th>\n",
              "      <td>0.37</td>\n",
              "      <td>0.52</td>\n",
              "      <td>2</td>\n",
              "      <td>159</td>\n",
              "      <td>3</td>\n",
              "      <td>0</td>\n",
              "      <td>1</td>\n",
              "      <td>0</td>\n",
              "      <td>sales</td>\n",
              "      <td>low</td>\n",
              "    </tr>\n",
              "    <tr>\n",
              "      <th>...</th>\n",
              "      <td>...</td>\n",
              "      <td>...</td>\n",
              "      <td>...</td>\n",
              "      <td>...</td>\n",
              "      <td>...</td>\n",
              "      <td>...</td>\n",
              "      <td>...</td>\n",
              "      <td>...</td>\n",
              "      <td>...</td>\n",
              "      <td>...</td>\n",
              "    </tr>\n",
              "    <tr>\n",
              "      <th>14994</th>\n",
              "      <td>0.40</td>\n",
              "      <td>0.57</td>\n",
              "      <td>2</td>\n",
              "      <td>151</td>\n",
              "      <td>3</td>\n",
              "      <td>0</td>\n",
              "      <td>1</td>\n",
              "      <td>0</td>\n",
              "      <td>support</td>\n",
              "      <td>low</td>\n",
              "    </tr>\n",
              "    <tr>\n",
              "      <th>14995</th>\n",
              "      <td>0.37</td>\n",
              "      <td>0.48</td>\n",
              "      <td>2</td>\n",
              "      <td>160</td>\n",
              "      <td>3</td>\n",
              "      <td>0</td>\n",
              "      <td>1</td>\n",
              "      <td>0</td>\n",
              "      <td>support</td>\n",
              "      <td>low</td>\n",
              "    </tr>\n",
              "    <tr>\n",
              "      <th>14996</th>\n",
              "      <td>0.37</td>\n",
              "      <td>0.53</td>\n",
              "      <td>2</td>\n",
              "      <td>143</td>\n",
              "      <td>3</td>\n",
              "      <td>0</td>\n",
              "      <td>1</td>\n",
              "      <td>0</td>\n",
              "      <td>support</td>\n",
              "      <td>low</td>\n",
              "    </tr>\n",
              "    <tr>\n",
              "      <th>14997</th>\n",
              "      <td>0.11</td>\n",
              "      <td>0.96</td>\n",
              "      <td>6</td>\n",
              "      <td>280</td>\n",
              "      <td>4</td>\n",
              "      <td>0</td>\n",
              "      <td>1</td>\n",
              "      <td>0</td>\n",
              "      <td>support</td>\n",
              "      <td>low</td>\n",
              "    </tr>\n",
              "    <tr>\n",
              "      <th>14998</th>\n",
              "      <td>0.37</td>\n",
              "      <td>0.52</td>\n",
              "      <td>2</td>\n",
              "      <td>158</td>\n",
              "      <td>3</td>\n",
              "      <td>0</td>\n",
              "      <td>1</td>\n",
              "      <td>0</td>\n",
              "      <td>support</td>\n",
              "      <td>low</td>\n",
              "    </tr>\n",
              "  </tbody>\n",
              "</table>\n",
              "<p>14999 rows × 10 columns</p>\n",
              "</div>"
            ],
            "text/plain": [
              "       satisfaction_level  last_evaluation  ...    sales  salary\n",
              "0                    0.38             0.53  ...    sales     low\n",
              "1                    0.80             0.86  ...    sales  medium\n",
              "2                    0.11             0.88  ...    sales  medium\n",
              "3                    0.72             0.87  ...    sales     low\n",
              "4                    0.37             0.52  ...    sales     low\n",
              "...                   ...              ...  ...      ...     ...\n",
              "14994                0.40             0.57  ...  support     low\n",
              "14995                0.37             0.48  ...  support     low\n",
              "14996                0.37             0.53  ...  support     low\n",
              "14997                0.11             0.96  ...  support     low\n",
              "14998                0.37             0.52  ...  support     low\n",
              "\n",
              "[14999 rows x 10 columns]"
            ]
          },
          "metadata": {
            "tags": []
          },
          "execution_count": 3
        }
      ]
    },
    {
      "cell_type": "code",
      "metadata": {
        "colab": {
          "base_uri": "https://localhost:8080/"
        },
        "id": "NjNZpT7eo2I_",
        "outputId": "e2efee47-53a8-496d-d036-a2a378fbeda3"
      },
      "source": [
        "#Verificación de datos nulos en el dataset\r\n",
        "df.isnull().sum()"
      ],
      "execution_count": 4,
      "outputs": [
        {
          "output_type": "execute_result",
          "data": {
            "text/plain": [
              "satisfaction_level       0\n",
              "last_evaluation          0\n",
              "number_project           0\n",
              "average_montly_hours     0\n",
              "time_spend_company       0\n",
              "Work_accident            0\n",
              "left                     0\n",
              "promotion_last_5years    0\n",
              "sales                    0\n",
              "salary                   0\n",
              "dtype: int64"
            ]
          },
          "metadata": {
            "tags": []
          },
          "execution_count": 4
        }
      ]
    },
    {
      "cell_type": "code",
      "metadata": {
        "colab": {
          "base_uri": "https://localhost:8080/"
        },
        "id": "EBTut0lspDgy",
        "outputId": "e181113b-7813-4ce4-984a-7390d61b26ad"
      },
      "source": [
        "#Para variables categoricas y binarias, verificación de que no hayan elementos mal escritos o similar.\r\n",
        "#Para esto, se imprimen los valores únicos de cada variable\r\n",
        "variables_bin_cat=[ 'Work_accident', \"left\", \"promotion_last_5years\", \"sales\", \"salary\"]\r\n",
        "[ (i, df[i].unique()) for i in variables_bin_cat]"
      ],
      "execution_count": 5,
      "outputs": [
        {
          "output_type": "execute_result",
          "data": {
            "text/plain": [
              "[('Work_accident', array([0, 1])),\n",
              " ('left', array([1, 0])),\n",
              " ('promotion_last_5years', array([0, 1])),\n",
              " ('sales',\n",
              "  array(['sales', 'accounting', 'hr', 'technical', 'support', 'management',\n",
              "         'IT', 'product_mng', 'marketing', 'RandD'], dtype=object)),\n",
              " ('salary', array(['low', 'medium', 'high'], dtype=object))]"
            ]
          },
          "metadata": {
            "tags": []
          },
          "execution_count": 5
        }
      ]
    },
    {
      "cell_type": "code",
      "metadata": {
        "colab": {
          "base_uri": "https://localhost:8080/"
        },
        "id": "JeGTpXF3neVz",
        "outputId": "f43d794b-be37-4c09-e2a5-f0e9a25e1866"
      },
      "source": [
        "#Para la verificación de variables númericas continuas, se usa DataFrame.describe() para validar el rango de los datos\r\n",
        "df.describe()"
      ],
      "execution_count": 6,
      "outputs": [
        {
          "output_type": "execute_result",
          "data": {
            "text/html": [
              "<div>\n",
              "<style scoped>\n",
              "    .dataframe tbody tr th:only-of-type {\n",
              "        vertical-align: middle;\n",
              "    }\n",
              "\n",
              "    .dataframe tbody tr th {\n",
              "        vertical-align: top;\n",
              "    }\n",
              "\n",
              "    .dataframe thead th {\n",
              "        text-align: right;\n",
              "    }\n",
              "</style>\n",
              "<table border=\"1\" class=\"dataframe\">\n",
              "  <thead>\n",
              "    <tr style=\"text-align: right;\">\n",
              "      <th></th>\n",
              "      <th>satisfaction_level</th>\n",
              "      <th>last_evaluation</th>\n",
              "      <th>number_project</th>\n",
              "      <th>average_montly_hours</th>\n",
              "      <th>time_spend_company</th>\n",
              "      <th>Work_accident</th>\n",
              "      <th>left</th>\n",
              "      <th>promotion_last_5years</th>\n",
              "    </tr>\n",
              "  </thead>\n",
              "  <tbody>\n",
              "    <tr>\n",
              "      <th>count</th>\n",
              "      <td>14999.000000</td>\n",
              "      <td>14999.000000</td>\n",
              "      <td>14999.000000</td>\n",
              "      <td>14999.000000</td>\n",
              "      <td>14999.000000</td>\n",
              "      <td>14999.000000</td>\n",
              "      <td>14999.000000</td>\n",
              "      <td>14999.000000</td>\n",
              "    </tr>\n",
              "    <tr>\n",
              "      <th>mean</th>\n",
              "      <td>0.612834</td>\n",
              "      <td>0.716102</td>\n",
              "      <td>3.803054</td>\n",
              "      <td>201.050337</td>\n",
              "      <td>3.498233</td>\n",
              "      <td>0.144610</td>\n",
              "      <td>0.238083</td>\n",
              "      <td>0.021268</td>\n",
              "    </tr>\n",
              "    <tr>\n",
              "      <th>std</th>\n",
              "      <td>0.248631</td>\n",
              "      <td>0.171169</td>\n",
              "      <td>1.232592</td>\n",
              "      <td>49.943099</td>\n",
              "      <td>1.460136</td>\n",
              "      <td>0.351719</td>\n",
              "      <td>0.425924</td>\n",
              "      <td>0.144281</td>\n",
              "    </tr>\n",
              "    <tr>\n",
              "      <th>min</th>\n",
              "      <td>0.090000</td>\n",
              "      <td>0.360000</td>\n",
              "      <td>2.000000</td>\n",
              "      <td>96.000000</td>\n",
              "      <td>2.000000</td>\n",
              "      <td>0.000000</td>\n",
              "      <td>0.000000</td>\n",
              "      <td>0.000000</td>\n",
              "    </tr>\n",
              "    <tr>\n",
              "      <th>25%</th>\n",
              "      <td>0.440000</td>\n",
              "      <td>0.560000</td>\n",
              "      <td>3.000000</td>\n",
              "      <td>156.000000</td>\n",
              "      <td>3.000000</td>\n",
              "      <td>0.000000</td>\n",
              "      <td>0.000000</td>\n",
              "      <td>0.000000</td>\n",
              "    </tr>\n",
              "    <tr>\n",
              "      <th>50%</th>\n",
              "      <td>0.640000</td>\n",
              "      <td>0.720000</td>\n",
              "      <td>4.000000</td>\n",
              "      <td>200.000000</td>\n",
              "      <td>3.000000</td>\n",
              "      <td>0.000000</td>\n",
              "      <td>0.000000</td>\n",
              "      <td>0.000000</td>\n",
              "    </tr>\n",
              "    <tr>\n",
              "      <th>75%</th>\n",
              "      <td>0.820000</td>\n",
              "      <td>0.870000</td>\n",
              "      <td>5.000000</td>\n",
              "      <td>245.000000</td>\n",
              "      <td>4.000000</td>\n",
              "      <td>0.000000</td>\n",
              "      <td>0.000000</td>\n",
              "      <td>0.000000</td>\n",
              "    </tr>\n",
              "    <tr>\n",
              "      <th>max</th>\n",
              "      <td>1.000000</td>\n",
              "      <td>1.000000</td>\n",
              "      <td>7.000000</td>\n",
              "      <td>310.000000</td>\n",
              "      <td>10.000000</td>\n",
              "      <td>1.000000</td>\n",
              "      <td>1.000000</td>\n",
              "      <td>1.000000</td>\n",
              "    </tr>\n",
              "  </tbody>\n",
              "</table>\n",
              "</div>"
            ],
            "text/plain": [
              "       satisfaction_level  last_evaluation  ...          left  promotion_last_5years\n",
              "count        14999.000000     14999.000000  ...  14999.000000           14999.000000\n",
              "mean             0.612834         0.716102  ...      0.238083               0.021268\n",
              "std              0.248631         0.171169  ...      0.425924               0.144281\n",
              "min              0.090000         0.360000  ...      0.000000               0.000000\n",
              "25%              0.440000         0.560000  ...      0.000000               0.000000\n",
              "50%              0.640000         0.720000  ...      0.000000               0.000000\n",
              "75%              0.820000         0.870000  ...      0.000000               0.000000\n",
              "max              1.000000         1.000000  ...      1.000000               1.000000\n",
              "\n",
              "[8 rows x 8 columns]"
            ]
          },
          "metadata": {
            "tags": []
          },
          "execution_count": 6
        }
      ]
    },
    {
      "cell_type": "markdown",
      "metadata": {
        "id": "uokCBPUHubQu"
      },
      "source": [
        "De este dataframe se puede observar que:\r\n",
        "1.   Las evaluaciones de desempeño se realizan juiciosamente de manera anual, dado que el máximo valor es 1 (eso, o quizá son más bien el nivel de desempeño en la última evaluación de desempeño)\r\n",
        "2.   Existen empleados que trabajan más de 10 horas al día en promedio (máximo de 310 horas al mes/30 días al mes= 10.33 horas al día). A priori, parece una posible causa de abandono.\r\n",
        "3. Se observa que la mayoría de empleados (al menos el 75%) no han abandonado a la compañía, recibido un ascenso en los últimos 5 años o tenido un accidente de trabajo. Esto sugiere que el dataset está no balanceado\r\n",
        "4. Igualmente, al menos el 75% de los empleados a trabajado con la compañía menos de 5 años, por lo que el punto 3 parece indicar que no hay muchos ascensos en la companía (otro posible factor de abandono)\r\n",
        "5. En general, parece no existir problemas con los datos.\r\n",
        "\r\n",
        "\r\n"
      ]
    },
    {
      "cell_type": "code",
      "metadata": {
        "colab": {
          "base_uri": "https://localhost:8080/"
        },
        "id": "p5lWOnRMn-XJ",
        "outputId": "1b96b3a3-9495-4256-f47d-ab3d9c949ba1"
      },
      "source": [
        "# Se verifica si la variable respuesta se encuentra balanceada en el dataset, mostrando el conteo de la misma\r\n",
        "df.groupby(\"left\")['sales'].count().plot(kind='bar')"
      ],
      "execution_count": 7,
      "outputs": [
        {
          "output_type": "execute_result",
          "data": {
            "text/plain": [
              "<matplotlib.axes._subplots.AxesSubplot at 0x7fc3a2384da0>"
            ]
          },
          "metadata": {
            "tags": []
          },
          "execution_count": 7
        },
        {
          "output_type": "display_data",
          "data": {
            "image/png": "[encoded data removed]",
            "text/plain": [
              "<Figure size 432x288 with 1 Axes>"
            ]
          },
          "metadata": {
            "tags": [],
            "needs_background": "light"
          }
        }
      ]
    },
    {
      "cell_type": "code",
      "metadata": {
        "id": "7smTWGtbzOx1"
      },
      "source": [
        "# Se renombra \"sales\" como \"department\", \"salary\" como \"salary_level\", \"left\" como \"employee_left\"\r\n",
        "# Esto es para dar nombres más interpretables de las variables\r\n",
        "df=df.rename(columns = {'sales':'department', 'salary': 'salary_level', 'left':'employee_left'})\r\n",
        "\r\n"
      ],
      "execution_count": 8,
      "outputs": []
    },
    {
      "cell_type": "markdown",
      "metadata": {
        "id": "EwmjNZY91hFj"
      },
      "source": [
        "# Análisis Exploratorio de Datos (EDA)\r\n",
        "\r\n",
        "Se revisará a mayor profundidad los datos para detectar ciertas interacciones y guiar la futura interpretación de los modelos.\r\n",
        "\r\n",
        "Para ello, se revisarán interacciones, agrupaciones y visualizaciones de los datos, y se generarán ideas del algunas interacciones interesantes que se detecten. \r\n",
        "\r\n",
        "1. Observar si, al agrupar los datos por alguna variable, se observa que alguna otra tiene un nivel diferente (por ejemplo, si se ve un cambio en los niveles de motivación entre los diferentes niveles de salario).\r\n",
        "2. Generar algunos heatmaps para apoyar las posibles tendencias que se vean (por ejemplo, detectar los departamentos de mayor rotación de personal)\r\n",
        "3. Generar visualizaciones de apoyo para encaminar el primer modelo (elegir features)\r\n",
        "\r\n"
      ]
    },
    {
      "cell_type": "code",
      "metadata": {
        "colab": {
          "base_uri": "https://localhost:8080/"
        },
        "id": "-tUMfebk0o_s",
        "outputId": "178b4870-47b6-42ad-f6b7-2b07363624b6"
      },
      "source": [
        "df.groupby('employee_left').mean()"
      ],
      "execution_count": 9,
      "outputs": [
        {
          "output_type": "execute_result",
          "data": {
            "text/html": [
              "<div>\n",
              "<style scoped>\n",
              "    .dataframe tbody tr th:only-of-type {\n",
              "        vertical-align: middle;\n",
              "    }\n",
              "\n",
              "    .dataframe tbody tr th {\n",
              "        vertical-align: top;\n",
              "    }\n",
              "\n",
              "    .dataframe thead th {\n",
              "        text-align: right;\n",
              "    }\n",
              "</style>\n",
              "<table border=\"1\" class=\"dataframe\">\n",
              "  <thead>\n",
              "    <tr style=\"text-align: right;\">\n",
              "      <th></th>\n",
              "      <th>satisfaction_level</th>\n",
              "      <th>last_evaluation</th>\n",
              "      <th>number_project</th>\n",
              "      <th>average_montly_hours</th>\n",
              "      <th>time_spend_company</th>\n",
              "      <th>Work_accident</th>\n",
              "      <th>promotion_last_5years</th>\n",
              "    </tr>\n",
              "    <tr>\n",
              "      <th>employee_left</th>\n",
              "      <th></th>\n",
              "      <th></th>\n",
              "      <th></th>\n",
              "      <th></th>\n",
              "      <th></th>\n",
              "      <th></th>\n",
              "      <th></th>\n",
              "    </tr>\n",
              "  </thead>\n",
              "  <tbody>\n",
              "    <tr>\n",
              "      <th>0</th>\n",
              "      <td>0.666810</td>\n",
              "      <td>0.715473</td>\n",
              "      <td>3.786664</td>\n",
              "      <td>199.060203</td>\n",
              "      <td>3.380032</td>\n",
              "      <td>0.175009</td>\n",
              "      <td>0.026251</td>\n",
              "    </tr>\n",
              "    <tr>\n",
              "      <th>1</th>\n",
              "      <td>0.440098</td>\n",
              "      <td>0.718113</td>\n",
              "      <td>3.855503</td>\n",
              "      <td>207.419210</td>\n",
              "      <td>3.876505</td>\n",
              "      <td>0.047326</td>\n",
              "      <td>0.005321</td>\n",
              "    </tr>\n",
              "  </tbody>\n",
              "</table>\n",
              "</div>"
            ],
            "text/plain": [
              "               satisfaction_level  ...  promotion_last_5years\n",
              "employee_left                      ...                       \n",
              "0                        0.666810  ...               0.026251\n",
              "1                        0.440098  ...               0.005321\n",
              "\n",
              "[2 rows x 7 columns]"
            ]
          },
          "metadata": {
            "tags": []
          },
          "execution_count": 9
        }
      ]
    },
    {
      "cell_type": "code",
      "metadata": {
        "colab": {
          "base_uri": "https://localhost:8080/"
        },
        "id": "I4rv4eqw1__t",
        "outputId": "d8d8d088-5b33-40b0-ec2e-21a701582bb8"
      },
      "source": [
        "df.groupby(['employee_left','salary_level']).mean()"
      ],
      "execution_count": 10,
      "outputs": [
        {
          "output_type": "execute_result",
          "data": {
            "text/html": [
              "<div>\n",
              "<style scoped>\n",
              "    .dataframe tbody tr th:only-of-type {\n",
              "        vertical-align: middle;\n",
              "    }\n",
              "\n",
              "    .dataframe tbody tr th {\n",
              "        vertical-align: top;\n",
              "    }\n",
              "\n",
              "    .dataframe thead th {\n",
              "        text-align: right;\n",
              "    }\n",
              "</style>\n",
              "<table border=\"1\" class=\"dataframe\">\n",
              "  <thead>\n",
              "    <tr style=\"text-align: right;\">\n",
              "      <th></th>\n",
              "      <th></th>\n",
              "      <th>satisfaction_level</th>\n",
              "      <th>last_evaluation</th>\n",
              "      <th>number_project</th>\n",
              "      <th>average_montly_hours</th>\n",
              "      <th>time_spend_company</th>\n",
              "      <th>Work_accident</th>\n",
              "      <th>promotion_last_5years</th>\n",
              "    </tr>\n",
              "    <tr>\n",
              "      <th>employee_left</th>\n",
              "      <th>salary_level</th>\n",
              "      <th></th>\n",
              "      <th></th>\n",
              "      <th></th>\n",
              "      <th></th>\n",
              "      <th></th>\n",
              "      <th></th>\n",
              "      <th></th>\n",
              "    </tr>\n",
              "  </thead>\n",
              "  <tbody>\n",
              "    <tr>\n",
              "      <th rowspan=\"3\" valign=\"top\">0</th>\n",
              "      <th>high</th>\n",
              "      <td>0.651879</td>\n",
              "      <td>0.708606</td>\n",
              "      <td>3.789610</td>\n",
              "      <td>200.348052</td>\n",
              "      <td>3.693506</td>\n",
              "      <td>0.166234</td>\n",
              "      <td>0.062338</td>\n",
              "    </tr>\n",
              "    <tr>\n",
              "      <th>low</th>\n",
              "      <td>0.668103</td>\n",
              "      <td>0.717028</td>\n",
              "      <td>3.784603</td>\n",
              "      <td>198.617418</td>\n",
              "      <td>3.253888</td>\n",
              "      <td>0.183709</td>\n",
              "      <td>0.010109</td>\n",
              "    </tr>\n",
              "    <tr>\n",
              "      <th>medium</th>\n",
              "      <td>0.668875</td>\n",
              "      <td>0.715461</td>\n",
              "      <td>3.788068</td>\n",
              "      <td>199.214272</td>\n",
              "      <td>3.435952</td>\n",
              "      <td>0.168259</td>\n",
              "      <td>0.034315</td>\n",
              "    </tr>\n",
              "    <tr>\n",
              "      <th rowspan=\"3\" valign=\"top\">1</th>\n",
              "      <th>high</th>\n",
              "      <td>0.434512</td>\n",
              "      <td>0.644024</td>\n",
              "      <td>3.451220</td>\n",
              "      <td>193.097561</td>\n",
              "      <td>3.682927</td>\n",
              "      <td>0.000000</td>\n",
              "      <td>0.000000</td>\n",
              "    </tr>\n",
              "    <tr>\n",
              "      <th>low</th>\n",
              "      <td>0.441248</td>\n",
              "      <td>0.716994</td>\n",
              "      <td>3.836096</td>\n",
              "      <td>206.631215</td>\n",
              "      <td>3.874770</td>\n",
              "      <td>0.043738</td>\n",
              "      <td>0.006446</td>\n",
              "    </tr>\n",
              "    <tr>\n",
              "      <th>medium</th>\n",
              "      <td>0.438550</td>\n",
              "      <td>0.724571</td>\n",
              "      <td>3.912680</td>\n",
              "      <td>209.610478</td>\n",
              "      <td>3.891420</td>\n",
              "      <td>0.056188</td>\n",
              "      <td>0.003797</td>\n",
              "    </tr>\n",
              "  </tbody>\n",
              "</table>\n",
              "</div>"
            ],
            "text/plain": [
              "                            satisfaction_level  ...  promotion_last_5years\n",
              "employee_left salary_level                      ...                       \n",
              "0             high                    0.651879  ...               0.062338\n",
              "              low                     0.668103  ...               0.010109\n",
              "              medium                  0.668875  ...               0.034315\n",
              "1             high                    0.434512  ...               0.000000\n",
              "              low                     0.441248  ...               0.006446\n",
              "              medium                  0.438550  ...               0.003797\n",
              "\n",
              "[6 rows x 7 columns]"
            ]
          },
          "metadata": {
            "tags": []
          },
          "execution_count": 10
        }
      ]
    },
    {
      "cell_type": "markdown",
      "metadata": {
        "id": "7ASgwbuN1vOR"
      },
      "source": [
        "Se observa que el nivel de satisfacción es mayor para los empleados que se mantienen en la empresa. Los que aun trabajan han tenido más ascensos y accidentes de trabajo.\r\n",
        "\r\n",
        "Los empleados de alto salario que abandonaron la empresa no tuvieron accidentes laborales o ascensos, siendo quizá este último una causa de su deserción."
      ]
    },
    {
      "cell_type": "code",
      "metadata": {
        "colab": {
          "base_uri": "https://localhost:8080/"
        },
        "id": "Wd0Wn4vQ1LIQ",
        "outputId": "728096ab-44c7-412e-e3cc-ecea6085e148"
      },
      "source": [
        "df.groupby('salary_level').mean()"
      ],
      "execution_count": 11,
      "outputs": [
        {
          "output_type": "execute_result",
          "data": {
            "text/html": [
              "<div>\n",
              "<style scoped>\n",
              "    .dataframe tbody tr th:only-of-type {\n",
              "        vertical-align: middle;\n",
              "    }\n",
              "\n",
              "    .dataframe tbody tr th {\n",
              "        vertical-align: top;\n",
              "    }\n",
              "\n",
              "    .dataframe thead th {\n",
              "        text-align: right;\n",
              "    }\n",
              "</style>\n",
              "<table border=\"1\" class=\"dataframe\">\n",
              "  <thead>\n",
              "    <tr style=\"text-align: right;\">\n",
              "      <th></th>\n",
              "      <th>satisfaction_level</th>\n",
              "      <th>last_evaluation</th>\n",
              "      <th>number_project</th>\n",
              "      <th>average_montly_hours</th>\n",
              "      <th>time_spend_company</th>\n",
              "      <th>Work_accident</th>\n",
              "      <th>employee_left</th>\n",
              "      <th>promotion_last_5years</th>\n",
              "    </tr>\n",
              "    <tr>\n",
              "      <th>salary_level</th>\n",
              "      <th></th>\n",
              "      <th></th>\n",
              "      <th></th>\n",
              "      <th></th>\n",
              "      <th></th>\n",
              "      <th></th>\n",
              "      <th></th>\n",
              "      <th></th>\n",
              "    </tr>\n",
              "  </thead>\n",
              "  <tbody>\n",
              "    <tr>\n",
              "      <th>high</th>\n",
              "      <td>0.637470</td>\n",
              "      <td>0.704325</td>\n",
              "      <td>3.767179</td>\n",
              "      <td>199.867421</td>\n",
              "      <td>3.692805</td>\n",
              "      <td>0.155214</td>\n",
              "      <td>0.066289</td>\n",
              "      <td>0.058205</td>\n",
              "    </tr>\n",
              "    <tr>\n",
              "      <th>low</th>\n",
              "      <td>0.600753</td>\n",
              "      <td>0.717017</td>\n",
              "      <td>3.799891</td>\n",
              "      <td>200.996583</td>\n",
              "      <td>3.438218</td>\n",
              "      <td>0.142154</td>\n",
              "      <td>0.296884</td>\n",
              "      <td>0.009021</td>\n",
              "    </tr>\n",
              "    <tr>\n",
              "      <th>medium</th>\n",
              "      <td>0.621817</td>\n",
              "      <td>0.717322</td>\n",
              "      <td>3.813528</td>\n",
              "      <td>201.338349</td>\n",
              "      <td>3.529010</td>\n",
              "      <td>0.145361</td>\n",
              "      <td>0.204313</td>\n",
              "      <td>0.028079</td>\n",
              "    </tr>\n",
              "  </tbody>\n",
              "</table>\n",
              "</div>"
            ],
            "text/plain": [
              "              satisfaction_level  ...  promotion_last_5years\n",
              "salary_level                      ...                       \n",
              "high                    0.637470  ...               0.058205\n",
              "low                     0.600753  ...               0.009021\n",
              "medium                  0.621817  ...               0.028079\n",
              "\n",
              "[3 rows x 8 columns]"
            ]
          },
          "metadata": {
            "tags": []
          },
          "execution_count": 11
        }
      ]
    },
    {
      "cell_type": "markdown",
      "metadata": {
        "id": "cApD4ybd2gqD"
      },
      "source": [
        "Se observa que el mayor salario parece inducir a menos probablidad de ascensos y a una menor tasa de abandono. Los demas factores lucen relativamente similares."
      ]
    },
    {
      "cell_type": "code",
      "metadata": {
        "colab": {
          "base_uri": "https://localhost:8080/"
        },
        "id": "CSE4apx81N7Q",
        "outputId": "c98b8d25-3a26-4b2a-9b3c-d9bc2ffaf5e7"
      },
      "source": [
        "df.groupby('department').mean()"
      ],
      "execution_count": 12,
      "outputs": [
        {
          "output_type": "execute_result",
          "data": {
            "text/html": [
              "<div>\n",
              "<style scoped>\n",
              "    .dataframe tbody tr th:only-of-type {\n",
              "        vertical-align: middle;\n",
              "    }\n",
              "\n",
              "    .dataframe tbody tr th {\n",
              "        vertical-align: top;\n",
              "    }\n",
              "\n",
              "    .dataframe thead th {\n",
              "        text-align: right;\n",
              "    }\n",
              "</style>\n",
              "<table border=\"1\" class=\"dataframe\">\n",
              "  <thead>\n",
              "    <tr style=\"text-align: right;\">\n",
              "      <th></th>\n",
              "      <th>satisfaction_level</th>\n",
              "      <th>last_evaluation</th>\n",
              "      <th>number_project</th>\n",
              "      <th>average_montly_hours</th>\n",
              "      <th>time_spend_company</th>\n",
              "      <th>Work_accident</th>\n",
              "      <th>employee_left</th>\n",
              "      <th>promotion_last_5years</th>\n",
              "    </tr>\n",
              "    <tr>\n",
              "      <th>department</th>\n",
              "      <th></th>\n",
              "      <th></th>\n",
              "      <th></th>\n",
              "      <th></th>\n",
              "      <th></th>\n",
              "      <th></th>\n",
              "      <th></th>\n",
              "      <th></th>\n",
              "    </tr>\n",
              "  </thead>\n",
              "  <tbody>\n",
              "    <tr>\n",
              "      <th>IT</th>\n",
              "      <td>0.618142</td>\n",
              "      <td>0.716830</td>\n",
              "      <td>3.816626</td>\n",
              "      <td>202.215974</td>\n",
              "      <td>3.468623</td>\n",
              "      <td>0.133659</td>\n",
              "      <td>0.222494</td>\n",
              "      <td>0.002445</td>\n",
              "    </tr>\n",
              "    <tr>\n",
              "      <th>RandD</th>\n",
              "      <td>0.619822</td>\n",
              "      <td>0.712122</td>\n",
              "      <td>3.853875</td>\n",
              "      <td>200.800508</td>\n",
              "      <td>3.367217</td>\n",
              "      <td>0.170267</td>\n",
              "      <td>0.153748</td>\n",
              "      <td>0.034307</td>\n",
              "    </tr>\n",
              "    <tr>\n",
              "      <th>accounting</th>\n",
              "      <td>0.582151</td>\n",
              "      <td>0.717718</td>\n",
              "      <td>3.825293</td>\n",
              "      <td>201.162973</td>\n",
              "      <td>3.522816</td>\n",
              "      <td>0.125163</td>\n",
              "      <td>0.265971</td>\n",
              "      <td>0.018253</td>\n",
              "    </tr>\n",
              "    <tr>\n",
              "      <th>hr</th>\n",
              "      <td>0.598809</td>\n",
              "      <td>0.708850</td>\n",
              "      <td>3.654939</td>\n",
              "      <td>198.684709</td>\n",
              "      <td>3.355886</td>\n",
              "      <td>0.120433</td>\n",
              "      <td>0.290934</td>\n",
              "      <td>0.020298</td>\n",
              "    </tr>\n",
              "    <tr>\n",
              "      <th>management</th>\n",
              "      <td>0.621349</td>\n",
              "      <td>0.724000</td>\n",
              "      <td>3.860317</td>\n",
              "      <td>201.249206</td>\n",
              "      <td>4.303175</td>\n",
              "      <td>0.163492</td>\n",
              "      <td>0.144444</td>\n",
              "      <td>0.109524</td>\n",
              "    </tr>\n",
              "    <tr>\n",
              "      <th>marketing</th>\n",
              "      <td>0.618601</td>\n",
              "      <td>0.715886</td>\n",
              "      <td>3.687646</td>\n",
              "      <td>199.385781</td>\n",
              "      <td>3.569930</td>\n",
              "      <td>0.160839</td>\n",
              "      <td>0.236597</td>\n",
              "      <td>0.050117</td>\n",
              "    </tr>\n",
              "    <tr>\n",
              "      <th>product_mng</th>\n",
              "      <td>0.619634</td>\n",
              "      <td>0.714756</td>\n",
              "      <td>3.807095</td>\n",
              "      <td>199.965632</td>\n",
              "      <td>3.475610</td>\n",
              "      <td>0.146341</td>\n",
              "      <td>0.219512</td>\n",
              "      <td>0.000000</td>\n",
              "    </tr>\n",
              "    <tr>\n",
              "      <th>sales</th>\n",
              "      <td>0.614447</td>\n",
              "      <td>0.709717</td>\n",
              "      <td>3.776329</td>\n",
              "      <td>200.911353</td>\n",
              "      <td>3.534058</td>\n",
              "      <td>0.141787</td>\n",
              "      <td>0.244928</td>\n",
              "      <td>0.024155</td>\n",
              "    </tr>\n",
              "    <tr>\n",
              "      <th>support</th>\n",
              "      <td>0.618300</td>\n",
              "      <td>0.723109</td>\n",
              "      <td>3.803948</td>\n",
              "      <td>200.758188</td>\n",
              "      <td>3.393001</td>\n",
              "      <td>0.154778</td>\n",
              "      <td>0.248991</td>\n",
              "      <td>0.008973</td>\n",
              "    </tr>\n",
              "    <tr>\n",
              "      <th>technical</th>\n",
              "      <td>0.607897</td>\n",
              "      <td>0.721099</td>\n",
              "      <td>3.877941</td>\n",
              "      <td>202.497426</td>\n",
              "      <td>3.411397</td>\n",
              "      <td>0.140074</td>\n",
              "      <td>0.256250</td>\n",
              "      <td>0.010294</td>\n",
              "    </tr>\n",
              "  </tbody>\n",
              "</table>\n",
              "</div>"
            ],
            "text/plain": [
              "             satisfaction_level  ...  promotion_last_5years\n",
              "department                       ...                       \n",
              "IT                     0.618142  ...               0.002445\n",
              "RandD                  0.619822  ...               0.034307\n",
              "accounting             0.582151  ...               0.018253\n",
              "hr                     0.598809  ...               0.020298\n",
              "management             0.621349  ...               0.109524\n",
              "marketing              0.618601  ...               0.050117\n",
              "product_mng            0.619634  ...               0.000000\n",
              "sales                  0.614447  ...               0.024155\n",
              "support                0.618300  ...               0.008973\n",
              "technical              0.607897  ...               0.010294\n",
              "\n",
              "[10 rows x 8 columns]"
            ]
          },
          "metadata": {
            "tags": []
          },
          "execution_count": 12
        }
      ]
    },
    {
      "cell_type": "markdown",
      "metadata": {
        "id": "HrrRrmDT275J"
      },
      "source": [
        "Parece ser que el departamento en que un empleado trabaja afecta principalmente sus posibilidades de ascenso. La tasa de salida varía por deparamento también, pero en una menor medida comparado con el ascenso en los últimos 5 años.\r\n"
      ]
    },
    {
      "cell_type": "code",
      "metadata": {
        "colab": {
          "base_uri": "https://localhost:8080/"
        },
        "id": "cueMQjoO1b5h",
        "outputId": "3e13af77-b69f-446c-851e-fba6c3559b90"
      },
      "source": [
        "df.groupby('number_project').mean()"
      ],
      "execution_count": 13,
      "outputs": [
        {
          "output_type": "execute_result",
          "data": {
            "text/html": [
              "<div>\n",
              "<style scoped>\n",
              "    .dataframe tbody tr th:only-of-type {\n",
              "        vertical-align: middle;\n",
              "    }\n",
              "\n",
              "    .dataframe tbody tr th {\n",
              "        vertical-align: top;\n",
              "    }\n",
              "\n",
              "    .dataframe thead th {\n",
              "        text-align: right;\n",
              "    }\n",
              "</style>\n",
              "<table border=\"1\" class=\"dataframe\">\n",
              "  <thead>\n",
              "    <tr style=\"text-align: right;\">\n",
              "      <th></th>\n",
              "      <th>satisfaction_level</th>\n",
              "      <th>last_evaluation</th>\n",
              "      <th>average_montly_hours</th>\n",
              "      <th>time_spend_company</th>\n",
              "      <th>Work_accident</th>\n",
              "      <th>employee_left</th>\n",
              "      <th>promotion_last_5years</th>\n",
              "    </tr>\n",
              "    <tr>\n",
              "      <th>number_project</th>\n",
              "      <th></th>\n",
              "      <th></th>\n",
              "      <th></th>\n",
              "      <th></th>\n",
              "      <th></th>\n",
              "      <th></th>\n",
              "      <th></th>\n",
              "    </tr>\n",
              "  </thead>\n",
              "  <tbody>\n",
              "    <tr>\n",
              "      <th>2</th>\n",
              "      <td>0.478769</td>\n",
              "      <td>0.568505</td>\n",
              "      <td>160.342546</td>\n",
              "      <td>3.180486</td>\n",
              "      <td>0.092965</td>\n",
              "      <td>0.656198</td>\n",
              "      <td>0.015494</td>\n",
              "    </tr>\n",
              "    <tr>\n",
              "      <th>3</th>\n",
              "      <td>0.687670</td>\n",
              "      <td>0.716572</td>\n",
              "      <td>197.507522</td>\n",
              "      <td>3.286560</td>\n",
              "      <td>0.175092</td>\n",
              "      <td>0.017756</td>\n",
              "      <td>0.023428</td>\n",
              "    </tr>\n",
              "    <tr>\n",
              "      <th>4</th>\n",
              "      <td>0.695132</td>\n",
              "      <td>0.740009</td>\n",
              "      <td>205.122108</td>\n",
              "      <td>3.454983</td>\n",
              "      <td>0.156472</td>\n",
              "      <td>0.093700</td>\n",
              "      <td>0.026804</td>\n",
              "    </tr>\n",
              "    <tr>\n",
              "      <th>5</th>\n",
              "      <td>0.678888</td>\n",
              "      <td>0.762010</td>\n",
              "      <td>212.061572</td>\n",
              "      <td>3.800072</td>\n",
              "      <td>0.150670</td>\n",
              "      <td>0.221659</td>\n",
              "      <td>0.018109</td>\n",
              "    </tr>\n",
              "    <tr>\n",
              "      <th>6</th>\n",
              "      <td>0.273458</td>\n",
              "      <td>0.786550</td>\n",
              "      <td>238.694208</td>\n",
              "      <td>4.192504</td>\n",
              "      <td>0.114140</td>\n",
              "      <td>0.557922</td>\n",
              "      <td>0.017036</td>\n",
              "    </tr>\n",
              "    <tr>\n",
              "      <th>7</th>\n",
              "      <td>0.118711</td>\n",
              "      <td>0.859609</td>\n",
              "      <td>276.078125</td>\n",
              "      <td>4.113281</td>\n",
              "      <td>0.015625</td>\n",
              "      <td>1.000000</td>\n",
              "      <td>0.000000</td>\n",
              "    </tr>\n",
              "  </tbody>\n",
              "</table>\n",
              "</div>"
            ],
            "text/plain": [
              "                satisfaction_level  ...  promotion_last_5years\n",
              "number_project                      ...                       \n",
              "2                         0.478769  ...               0.015494\n",
              "3                         0.687670  ...               0.023428\n",
              "4                         0.695132  ...               0.026804\n",
              "5                         0.678888  ...               0.018109\n",
              "6                         0.273458  ...               0.017036\n",
              "7                         0.118711  ...               0.000000\n",
              "\n",
              "[6 rows x 7 columns]"
            ]
          },
          "metadata": {
            "tags": []
          },
          "execution_count": 13
        }
      ]
    },
    {
      "cell_type": "markdown",
      "metadata": {
        "id": "f99BAogo3geN"
      },
      "source": [
        "Podría decirse que los proyectos ejecutados podrían mostrar la responsabilidad asignada en la organización. Debe haber un equilibrio: Ni tan poca responsabilidad que parezca que la organización no confía en el empleado, ni tanta que parezca que el empleado es un solo departamento.\r\n",
        "\r\n",
        "Es interesante que aquellos empleados con el mínimo y máximo número de proyectos asignados son los empleados más propensos a abandonar la organización.\r\n",
        "\r\n",
        "Igualmente, los empleados con el mayor número de proyectos realizados no han tenido un ascenso en los últimos 5 años. \"Mucha carga, poca recomensa\" puede ser un motivo de abandono en esta organización."
      ]
    },
    {
      "cell_type": "code",
      "metadata": {
        "colab": {
          "base_uri": "https://localhost:8080/"
        },
        "id": "7aJvmF0v63FD",
        "outputId": "a545bedf-d788-4748-9fe4-9efedf9b51f6"
      },
      "source": [
        "\r\n",
        "def heatmap_count(df, var1, var2):\r\n",
        "  \"\"\"Generates a Count heatmap of any two columns of a data frame\r\n",
        "\r\n",
        "  Parameters\r\n",
        "  ----------\r\n",
        "  df : DataFrame\r\n",
        "      A DataFrame that has column features\r\n",
        "  var1 : str\r\n",
        "      The name of a column in the DataFrame\r\n",
        "  var2 : str\r\n",
        "      The name of a column in the DataFrame. Different from var1\r\n",
        "  \r\n",
        "  Returns\r\n",
        "  -------\r\n",
        "  plot : seaborn.heatmap\r\n",
        "      A heatmap of the 2 variables grouped by count, with preset configuration\r\n",
        "  \"\"\"\r\n",
        "\r\n",
        "  heat_df=[]\r\n",
        "  heat_df=pd.DataFrame(df.groupby([var1,var2]).count().iloc[:,1]).reset_index()\r\n",
        "  cols=heat_df.columns\r\n",
        "  value=[y for y in cols if y not in [var1, var2]]\r\n",
        "  heat_df=heat_df.pivot(columns=var1, index=var2, values=value[0])\r\n",
        "  plt.figure(figsize=(15,5))\r\n",
        "  return sns.heatmap(heat_df, cmap=\"Blues\",linewidths=0.5, annot=True, fmt='g')\r\n",
        "\r\n",
        "  \r\n",
        "heatmap_count(df, \"salary_level\", \"employee_left\")"
      ],
      "execution_count": 14,
      "outputs": [
        {
          "output_type": "execute_result",
          "data": {
            "text/plain": [
              "<matplotlib.axes._subplots.AxesSubplot at 0x7fc3a22dc908>"
            ]
          },
          "metadata": {
            "tags": []
          },
          "execution_count": 14
        },
        {
          "output_type": "display_data",
          "data": {
            "image/png": "[encoded data removed]",
            "text/plain": [
              "<Figure size 1080x360 with 2 Axes>"
            ]
          },
          "metadata": {
            "tags": [],
            "needs_background": "light"
          }
        }
      ]
    },
    {
      "cell_type": "markdown",
      "metadata": {
        "id": "L7SeLVPFC_mZ"
      },
      "source": [
        "Se observa que el alto salario parece \"prevenir\" el abandono en la empresa, dado que al incrementar el nivel de salario, existe un menor porcentaje de personas que abandonan la empresa."
      ]
    },
    {
      "cell_type": "code",
      "metadata": {
        "colab": {
          "base_uri": "https://localhost:8080/"
        },
        "id": "bQAKIj9L_ZRn",
        "outputId": "ecc3df6d-c78c-4d7c-fff4-23ddbb00b68f"
      },
      "source": [
        "heatmap_count(df, \"department\", \"employee_left\")"
      ],
      "execution_count": 15,
      "outputs": [
        {
          "output_type": "execute_result",
          "data": {
            "text/plain": [
              "<matplotlib.axes._subplots.AxesSubplot at 0x7fc3a22c84a8>"
            ]
          },
          "metadata": {
            "tags": []
          },
          "execution_count": 15
        },
        {
          "output_type": "display_data",
          "data": {
            "image/png": "[encoded data removed]",
            "text/plain": [
              "<Figure size 1080x360 with 2 Axes>"
            ]
          },
          "metadata": {
            "tags": [],
            "needs_background": "light"
          }
        }
      ]
    },
    {
      "cell_type": "markdown",
      "metadata": {
        "id": "LhdDrCvRDhp3"
      },
      "source": [
        "Se logra ver que los deparamentos de Sales, support y techinical poseen mayor munero de empleados. Además, se ve que existen departamentos como management que tienen una menor tasa de salida (salen 91 de 539+91, vs digamos, en sales que salen 1014 de 1014+3126- que es casi un tercio-)"
      ]
    },
    {
      "cell_type": "code",
      "metadata": {
        "colab": {
          "base_uri": "https://localhost:8080/"
        },
        "id": "g7qCxD5BCBPD",
        "outputId": "9c6ea4ef-dbc4-488c-d0fd-e176e833ffe8"
      },
      "source": [
        "heatmap_count(df, \"department\", \"salary_level\")"
      ],
      "execution_count": 16,
      "outputs": [
        {
          "output_type": "execute_result",
          "data": {
            "text/plain": [
              "<matplotlib.axes._subplots.AxesSubplot at 0x7fc39950fdd8>"
            ]
          },
          "metadata": {
            "tags": []
          },
          "execution_count": 16
        },
        {
          "output_type": "display_data",
          "data": {
            "image/png": "[encoded data removed]",
            "text/plain": [
              "<Figure size 1080x360 with 2 Axes>"
            ]
          },
          "metadata": {
            "tags": [],
            "needs_background": "light"
          }
        }
      ]
    },
    {
      "cell_type": "markdown",
      "metadata": {
        "id": "QY05V-0zEBmS"
      },
      "source": [
        "Los niveles de salario Low y Medium tienen un comportamiento similar entre los departamentos.  Los departamentos Sales, technical y Management son departamentos que presentan un número relativamente mayor de personas de mayor salario."
      ]
    },
    {
      "cell_type": "code",
      "metadata": {
        "colab": {
          "base_uri": "https://localhost:8080/"
        },
        "id": "JU_7jozyvwC8",
        "outputId": "7cde163c-ab3b-4039-f018-72866f0f2260"
      },
      "source": [
        "#Se realiza un mapa de calor de Predictive Power Score (PPS).\r\n",
        "#El PPS es una métrica que mide el poder predictivo de una variable sobre otra.\r\n",
        "#Esta se utiliza para observar correlaciones y posibles variables de interés para los modelos\r\n",
        "matrix_df = pps.matrix(df)[['x', 'y', 'ppscore']].pivot(columns='x', index='y', values='ppscore')\r\n",
        "plt.figure(figsize=(15,5))\r\n",
        "sns.heatmap(matrix_df, vmin=0, vmax=1, cmap=\"Blues\", linewidths=0.5, annot=True)"
      ],
      "execution_count": 17,
      "outputs": [
        {
          "output_type": "execute_result",
          "data": {
            "text/plain": [
              "<matplotlib.axes._subplots.AxesSubplot at 0x7fc399408198>"
            ]
          },
          "metadata": {
            "tags": []
          },
          "execution_count": 17
        },
        {
          "output_type": "display_data",
          "data": {
            "image/png": "[encoded data removed]",
            "text/plain": [
              "<Figure size 1080x360 with 2 Axes>"
            ]
          },
          "metadata": {
            "tags": [],
            "needs_background": "light"
          }
        }
      ]
    },
    {
      "cell_type": "markdown",
      "metadata": {
        "id": "W0cMQNbb4ba5"
      },
      "source": [
        "El Predictive Power Score es una medida del poder predictivo de una variable. \r\n",
        "\r\n",
        "Esta gráfica nos muestra que la variable \"employee_left\" puede ser predecia por las variables \"number_projects\", y \"satisfaction_level\", pues la fila de \"employee_left\" posee valores en estas columnas.\r\n",
        "\r\n",
        "Esta gráfica parece apoyar algunas de las hipótesis que se han ido formando:\r\n",
        "1. El número de proyectos si tiene poder predictivo sobre la satisfacción del empleado.\r\n",
        "2. La variable que mayor poder predictivo tiene es la satisfacción del empleado."
      ]
    },
    {
      "cell_type": "markdown",
      "metadata": {
        "id": "v66FEZnLEhst"
      },
      "source": [
        "# Modelado preliminar\r\n",
        "## Preparación de los datos\r\n",
        "Se aplica cambios a los datos originales, haciendo las variables departmetn y salary_level categóricas.\r\n",
        "\r\n",
        "Se probarán inicialmente los modelos:\r\n",
        "\r\n",
        "* Regresión Logística\r\n",
        "* Random Forest (Clasificador)\r\n",
        "* KNN (Clasificador)\r\n",
        "\r\n",
        "Para las pruebas iniciales, se hará un split 80-20 para Entrenamiento y Prueba, se tomarán más muestras de la clase minoritaria (upsampling) para manejar la clase no balanceada y se tomará la versión \"por defecto\" de los modelos en sklearn con todos los features del set de datos. Se presentará la precisión en el set de prueba y la matriz de confusión. El objetivo de este paso es la generación de un insight inicial de que tan buenos predictores para el set de datos son cada uno de los modelos.\r\n",
        "\r\n",
        "\r\n",
        "Posteriormente, se hará un tuneo de los hyper parámetros de cada modelo, además de preparar los datos para cada uno. En este paso, se compará la mejor versión encontrada de cada modelo entre si, y se elegirá aquel que posea una mejor ROC-AUC y Matriz de confusión, a partir de una 10-fold cross-validation.\r\n",
        "\r\n"
      ]
    },
    {
      "cell_type": "code",
      "metadata": {
        "colab": {
          "base_uri": "https://localhost:8080/"
        },
        "id": "KfkjA_-SE7L-",
        "outputId": "250920bd-7f64-4ab5-e365-3da5e97bab3d"
      },
      "source": [
        "df=df.astype({\"department\":\"category\", \"salary_level\":\"category\"})\r\n",
        "df.dtypes"
      ],
      "execution_count": 18,
      "outputs": [
        {
          "output_type": "execute_result",
          "data": {
            "text/plain": [
              "satisfaction_level        float64\n",
              "last_evaluation           float64\n",
              "number_project              int64\n",
              "average_montly_hours        int64\n",
              "time_spend_company          int64\n",
              "Work_accident               int64\n",
              "employee_left               int64\n",
              "promotion_last_5years       int64\n",
              "department               category\n",
              "salary_level             category\n",
              "dtype: object"
            ]
          },
          "metadata": {
            "tags": []
          },
          "execution_count": 18
        }
      ]
    },
    {
      "cell_type": "code",
      "metadata": {
        "id": "veSJMRamHWFM"
      },
      "source": [
        "def get_X_y(df, y_name):\r\n",
        "  \"\"\"\r\n",
        "  Splits a DataFrame in X (Features) and y (response variable)\r\n",
        "  Parameters\r\n",
        "  ----------\r\n",
        "  df : DataFrame\r\n",
        "      A DataFrame that has column features.\r\n",
        "  y_name : str\r\n",
        "      The name of the target varriable in the DataFrame.\r\n",
        "\r\n",
        "  \r\n",
        "  Returns\r\n",
        "  -------\r\n",
        "  X : DataFrame\r\n",
        "      DataFrame with the features used to predict y.\r\n",
        "  y : Array(int)\r\n",
        "      Array with the response variable's values.\r\n",
        "  \"\"\"\r\n",
        "  y=[y_name]\r\n",
        "  X=[col for col in df.columns if col not in y]\r\n",
        "  y=df[y].copy().values.flatten()\r\n",
        "  X=pd.get_dummies(df[X].copy())\r\n",
        "  return X, y\r\n",
        "\r\n",
        "\r\n",
        "def data_preprocessing_up_or_down_sample(X, y, sample=\"up\", test_size=0.2):\r\n",
        "  \"\"\"\r\n",
        "  Applies downsampling or upsampling, and returns the Train-Test split \r\n",
        "  of data.\r\n",
        "  Parameters\r\n",
        "  ----------\r\n",
        "  X : DataFrame\r\n",
        "      DataFrame with the features used to predict y.\r\n",
        "  y : Array(int)\r\n",
        "      Array with the response variable's values.\r\n",
        "  sample : str(optional)\r\n",
        "      Chooses the method to apply. Downsampling (\"down\"), \r\n",
        "      upsampling (\"up\") or no method (anything else). Default is \"up\". \r\n",
        "  test_size : float(optional)\r\n",
        "      Sets the test_size parameter of sklearn.model_selection.train_test_split.\r\n",
        "      Default is 0.2\r\n",
        "  \r\n",
        "  Returns\r\n",
        "  -------\r\n",
        "  splitting : list, length=2 * len(arrays)\r\n",
        "      List containing train-test split of inputs, with the method defined by\r\n",
        "      the parameter sample applied.\r\n",
        "  \"\"\"\r\n",
        "\r\n",
        "  # Use the sample parameter to define local variables to select the correct \r\n",
        "  # method\r\n",
        "  a,b=0,0\r\n",
        "  if sample==\"up\": \r\n",
        "    a,b=1,0\r\n",
        "  if sample==\"down\":\r\n",
        "    a,b=0,1 \r\n",
        "\r\n",
        "  \r\n",
        "  # Apply the normal train_test_split to the data\r\n",
        "  X_train, X_test, y_train, y_test = train_test_split( X, y, \\\r\n",
        "                                        test_size=test_size)\r\n",
        "  # Using the a and b local variables, apply downsampling or upsampling only\r\n",
        "  # if the sample parameter is \"up\" or \"down\".\r\n",
        "\r\n",
        "  if a+b>=1:\r\n",
        "    X_train_temp, y_train_temp = resample(X_train[y_train == a],\r\n",
        "                                    y_train[y_train == a],\r\n",
        "                                    n_samples=X_train[y_train == b].shape[0])\r\n",
        "    X_train = np.concatenate((X_train[y_train == b], X_train_temp))\r\n",
        "    y_train = np.concatenate((y_train[y_train == b], y_train_temp))\r\n",
        "  return (X_train, X_test, y_train, y_test)\r\n",
        "\r\n",
        "\r\n",
        "def rocauc_plot(model, model_name, y_test, X_test):\r\n",
        "  \"\"\"\r\n",
        "  Plots the ROC-AUC curve for a model. \r\n",
        "  Multiple consecutive calls will allow to display multiple curves on the\r\n",
        "  same plot\r\n",
        "\r\n",
        "  Parameters\r\n",
        "  ----------\r\n",
        "  model : estimator object.\r\n",
        "      Either from sklearn or keras interfaces\r\n",
        "  model_name : str\r\n",
        "      Name of the plot\r\n",
        "  X_test : {array-like, sparse matrix} of shape (n_samples, n_features)\r\n",
        "      Input values\r\n",
        "  y_test : {array-like, sparse matrix} of shape (n_samples, n_features)\r\n",
        "      Target values\r\n",
        "  test_size : float(optional)\r\n",
        "      Sets the test_size parameter of sklearn.model_selection.train_test_split.\r\n",
        "      Default is 0.2\r\n",
        "  \r\n",
        "  Returns\r\n",
        "  -------\r\n",
        "  plot : matplotlib.pyplot\r\n",
        "      Plot of the ROC-AUC score\r\n",
        "  \"\"\"\r\n",
        "  try:\r\n",
        "    auc = roc_auc_score(y_test, model.predict_proba(X_test)[:, 1])\r\n",
        "    fpr, tpr, thresholds = roc_curve(y_test, model.predict_proba(X_test)[:, 1])\r\n",
        "  except:\r\n",
        "    auc = roc_auc_score(y_test, model.predict(X_test))\r\n",
        "    fpr, tpr, thresholds = roc_curve(y_test, model.predict(X_test))\r\n",
        "  plt.plot(fpr, tpr, label=model_name+\" AUC = {:.5f}\".format(auc))\r\n",
        "  plt.title(\"Curva(s) ROC\", fontdict={\"fontsize\": 21})\r\n",
        "  plt.xlabel(\"False positive rate\", fontdict={\"fontsize\": 13})\r\n",
        "  plt.ylabel(\"True positive rate\", fontdict={\"fontsize\": 13})\r\n",
        "  plt.legend(loc=\"lower right\")\r\n",
        "  plt.plot([0, 1], [0, 1], \"r--\")\r\n",
        "\r\n",
        "\r\n",
        "\r\n",
        "def plot_roc_conf_matrix(y_test,X_test, model, model_name):\r\n",
        "  \"\"\"\r\n",
        "  Print the classifaction report and plots the ROC-AUC curve and confusion \r\n",
        "  matrix for a model.\r\n",
        "\r\n",
        "  Arguments\r\n",
        "  ---------\r\n",
        "  y_test : {array-like, sparse matrix} of shape (n_samples, n_features)\r\n",
        "      Target values\r\n",
        "  X_test : {array-like, sparse matrix} of shape (n_samples, n_features)\r\n",
        "      Input values\r\n",
        "  model : estimator object.\r\n",
        "      Either from sklearn or keras interfaces\r\n",
        "  model_name : str\r\n",
        "      Name of the model. Used as part of the plot's titles.\r\n",
        "  \r\n",
        "  \"\"\"\r\n",
        "\r\n",
        "  try:\r\n",
        "    y_pred=model.predict_classes(X_test)\r\n",
        "  except:\r\n",
        "    y_pred=model.predict(X_test)\r\n",
        "  cm = metrics.confusion_matrix(y_test, y_pred)\r\n",
        "  plt.figure(figsize=(15,5))\r\n",
        "\r\n",
        "  plt.subplot(1,2,1)\r\n",
        "  sns.heatmap(cm, annot=True, fmt='g', cmap='Blues')\r\n",
        "  plt.title(model_name+ \" - Matriz de confusión\", y=1.1, \\\r\n",
        "            fontdict={\"fontsize\": 21})\r\n",
        "\r\n",
        "  plt.xlabel(\"Predicted\", fontdict={\"fontsize\": 14})\r\n",
        "  plt.ylabel(\"Actual\", fontdict={\"fontsize\": 14})\r\n",
        "  \r\n",
        "  print(classification_report(y_test, y_pred))\r\n",
        "  plt.subplot(1,2,2)\r\n",
        "\r\n",
        "  rocauc_plot(model, model_name, y_test, X_test)\r\n",
        "\r\n",
        "\r\n",
        "def apply_model_to_df(df, model, model_name, sample=\"up\", test_size=0.2,\\\r\n",
        "                      y_name=\"employee_left\"):\r\n",
        "  \"\"\"\r\n",
        "  Applies a sklearn estimator to a DataFrame. \r\n",
        "  It returns a fitted model and shows relevant information of the model's\r\n",
        "  performance (applies the plot_roc_conf_matrix function to it)\r\n",
        "\r\n",
        "  Parameters\r\n",
        "  ----------\r\n",
        "  df : DataFrame\r\n",
        "      A DataFrame that has column features\r\n",
        "  model : estimator object.\r\n",
        "      Either from sklearn or keras interfaces\r\n",
        "  model_name : str\r\n",
        "      Name of the model. Used as part of the plot's titles.\r\n",
        "  sample : str(optional)\r\n",
        "      Chooses the method to apply. Downsampling (\"down\"), \r\n",
        "      upsampling (\"up\") or no method (anything else). Default is \"up\". \r\n",
        "  test_size : float(optional)\r\n",
        "      Sets the test_size parameter of sklearn.model_selection.train_test_split.\r\n",
        "      Default is 0.2\r\n",
        "  y_name : str(optional)\r\n",
        "      The name of the target varriable in the DataFrame.\r\n",
        "      Default value is \"employee_left\"\r\n",
        "  \r\n",
        "  Returns\r\n",
        "  -------\r\n",
        "  model : estimator instance\r\n",
        "      Fitted classifier or a fitted Pipeline in which the last estimator \r\n",
        "      is a classifier.\r\n",
        "  \"\"\"\r\n",
        "  X,y=get_X_y(df, y_name)\r\n",
        "  X_train, X_test, y_train, y_test =data_preprocessing_up_or_down_sample(X, y, sample=sample, test_size=test_size)\r\n",
        "  model.fit(X_train, y_train)\r\n",
        "  y_pred = model.predict(X_test)\r\n",
        "  plot_roc_conf_matrix(y_test,X_test, model, model_name)\r\n",
        "  return model"
      ],
      "execution_count": 19,
      "outputs": []
    },
    {
      "cell_type": "code",
      "metadata": {
        "colab": {
          "base_uri": "https://localhost:8080/"
        },
        "id": "KnTi0CXiKSgJ",
        "outputId": "7c4789a2-49a7-4ef5-b07c-c341a34a7185"
      },
      "source": [
        "rf_us=apply_model_to_df(df,RandomForestClassifier(), \"Random Forest - Upsampling\", \"up\")\r\n"
      ],
      "execution_count": 20,
      "outputs": [
        {
          "output_type": "stream",
          "text": [
            "              precision    recall  f1-score   support\n",
            "\n",
            "           0       0.99      1.00      0.99      2256\n",
            "           1       0.99      0.96      0.97       744\n",
            "\n",
            "    accuracy                           0.99      3000\n",
            "   macro avg       0.99      0.98      0.98      3000\n",
            "weighted avg       0.99      0.99      0.99      3000\n",
            "\n"
          ],
          "name": "stdout"
        },
        {
          "output_type": "display_data",
          "data": {
            "image/png": "[encoded data removed]",
            "text/plain": [
              "<Figure size 1080x360 with 3 Axes>"
            ]
          },
          "metadata": {
            "tags": [],
            "needs_background": "light"
          }
        }
      ]
    },
    {
      "cell_type": "code",
      "metadata": {
        "colab": {
          "base_uri": "https://localhost:8080/"
        },
        "id": "3b5ID6VihVNW",
        "outputId": "efe6cc30-1614-4b13-9082-252102ca428e"
      },
      "source": [
        "rf_ds=apply_model_to_df(df,RandomForestClassifier(),\"Random Forest - Downsampling\", \"down\")\r\n"
      ],
      "execution_count": 21,
      "outputs": [
        {
          "output_type": "stream",
          "text": [
            "              precision    recall  f1-score   support\n",
            "\n",
            "           0       0.99      0.99      0.99      2280\n",
            "           1       0.97      0.96      0.97       720\n",
            "\n",
            "    accuracy                           0.99      3000\n",
            "   macro avg       0.98      0.98      0.98      3000\n",
            "weighted avg       0.99      0.99      0.99      3000\n",
            "\n"
          ],
          "name": "stdout"
        },
        {
          "output_type": "display_data",
          "data": {
            "image/png": "[encoded data removed]",
            "text/plain": [
              "<Figure size 1080x360 with 3 Axes>"
            ]
          },
          "metadata": {
            "tags": [],
            "needs_background": "light"
          }
        }
      ]
    },
    {
      "cell_type": "code",
      "metadata": {
        "colab": {
          "base_uri": "https://localhost:8080/"
        },
        "id": "DRqkohtKhrqh",
        "outputId": "c479142e-4011-459a-faeb-0068c3c7583a"
      },
      "source": [
        "rf_asis=apply_model_to_df(df,RandomForestClassifier(),\"Random Forest - Data As Is\", \"None\")\r\n"
      ],
      "execution_count": 22,
      "outputs": [
        {
          "output_type": "stream",
          "text": [
            "              precision    recall  f1-score   support\n",
            "\n",
            "           0       0.99      1.00      0.99      2305\n",
            "           1       1.00      0.97      0.98       695\n",
            "\n",
            "    accuracy                           0.99      3000\n",
            "   macro avg       0.99      0.98      0.99      3000\n",
            "weighted avg       0.99      0.99      0.99      3000\n",
            "\n"
          ],
          "name": "stdout"
        },
        {
          "output_type": "display_data",
          "data": {
            "image/png": "[encoded data removed]",
            "text/plain": [
              "<Figure size 1080x360 with 3 Axes>"
            ]
          },
          "metadata": {
            "tags": [],
            "needs_background": "light"
          }
        }
      ]
    },
    {
      "cell_type": "code",
      "metadata": {
        "colab": {
          "base_uri": "https://localhost:8080/"
        },
        "id": "OHbRY5GZTsol",
        "outputId": "6833619b-c8e4-4d63-94f1-7ef9d08eb784"
      },
      "source": [
        "rf_us.get_params(deep=False)"
      ],
      "execution_count": 23,
      "outputs": [
        {
          "output_type": "execute_result",
          "data": {
            "text/plain": [
              "{'bootstrap': True,\n",
              " 'ccp_alpha': 0.0,\n",
              " 'class_weight': None,\n",
              " 'criterion': 'gini',\n",
              " 'max_depth': None,\n",
              " 'max_features': 'auto',\n",
              " 'max_leaf_nodes': None,\n",
              " 'max_samples': None,\n",
              " 'min_impurity_decrease': 0.0,\n",
              " 'min_impurity_split': None,\n",
              " 'min_samples_leaf': 1,\n",
              " 'min_samples_split': 2,\n",
              " 'min_weight_fraction_leaf': 0.0,\n",
              " 'n_estimators': 100,\n",
              " 'n_jobs': None,\n",
              " 'oob_score': False,\n",
              " 'random_state': None,\n",
              " 'verbose': 0,\n",
              " 'warm_start': False}"
            ]
          },
          "metadata": {
            "tags": []
          },
          "execution_count": 23
        }
      ]
    },
    {
      "cell_type": "code",
      "metadata": {
        "colab": {
          "base_uri": "https://localhost:8080/"
        },
        "id": "BKbXzFstY6H0",
        "outputId": "4d084fc6-9e7c-4a4b-f52e-c7ab06805d78"
      },
      "source": [
        "lr_no=apply_model_to_df(df,LogisticRegression(class_weight=\"balanced\"), \"Regresión Logística\")\r\n"
      ],
      "execution_count": 24,
      "outputs": [
        {
          "output_type": "stream",
          "text": [
            "              precision    recall  f1-score   support\n",
            "\n",
            "           0       0.92      0.74      0.82      2267\n",
            "           1       0.50      0.80      0.61       733\n",
            "\n",
            "    accuracy                           0.76      3000\n",
            "   macro avg       0.71      0.77      0.72      3000\n",
            "weighted avg       0.82      0.76      0.77      3000\n",
            "\n"
          ],
          "name": "stdout"
        },
        {
          "output_type": "display_data",
          "data": {
            "image/png": "[encoded data removed]",
            "text/plain": [
              "<Figure size 1080x360 with 3 Axes>"
            ]
          },
          "metadata": {
            "tags": [],
            "needs_background": "light"
          }
        }
      ]
    },
    {
      "cell_type": "code",
      "metadata": {
        "colab": {
          "base_uri": "https://localhost:8080/"
        },
        "id": "_lx0DFJPZCwx",
        "outputId": "1f5fb747-fa9e-4af3-8b89-63b4c91b19d9"
      },
      "source": [
        "knn_no=apply_model_to_df(df,KNeighborsClassifier(), \"KNN Classifier\")\r\n"
      ],
      "execution_count": 25,
      "outputs": [
        {
          "output_type": "stream",
          "text": [
            "              precision    recall  f1-score   support\n",
            "\n",
            "           0       0.98      0.90      0.94      2286\n",
            "           1       0.75      0.95      0.84       714\n",
            "\n",
            "    accuracy                           0.91      3000\n",
            "   macro avg       0.86      0.92      0.89      3000\n",
            "weighted avg       0.93      0.91      0.91      3000\n",
            "\n"
          ],
          "name": "stdout"
        },
        {
          "output_type": "display_data",
          "data": {
            "image/png": "[encoded data removed]",
            "text/plain": [
              "<Figure size 1080x360 with 3 Axes>"
            ]
          },
          "metadata": {
            "tags": [],
            "needs_background": "light"
          }
        }
      ]
    },
    {
      "cell_type": "code",
      "metadata": {
        "id": "8a-zVBtyMnef",
        "outputId": "455c9556-0964-4a7f-bd45-fc61340dbc8a",
        "colab": {
          "base_uri": "https://localhost:8080/"
        }
      },
      "source": [
        "import keras\r\n",
        "from keras.models import Sequential\r\n",
        "from keras.layers import Dense, Dropout\r\n",
        "nn=Sequential()\r\n",
        "nn.add(Dense(20, input_dim=20, activation='relu'))\r\n",
        "nn.add(Dropout(0.15))\r\n",
        "nn.add(Dense(1, activation='sigmoid'))\r\n",
        "nn.compile(optimizer='adam',loss='binary_crossentropy',metrics=['binary_accuracy'])\r\n",
        "nn.fit(X_train,y_train,epochs=10,batch_size=5)\r\n",
        "plot_roc_conf_matrix(y_test,X_test, nn, \"Red Neuronal Sencilla\")"
      ],
      "execution_count": 26,
      "outputs": [
        {
          "output_type": "error",
          "ename": "NameError",
          "evalue": "ignored",
          "traceback": [
            "\u001b[0;31m---------------------------------------------------------------------------\u001b[0m",
            "\u001b[0;31mNameError\u001b[0m                                 Traceback (most recent call last)",
            "\u001b[0;32m<ipython-input-26-c4a946daaea0>\u001b[0m in \u001b[0;36m<module>\u001b[0;34m()\u001b[0m\n\u001b[1;32m      7\u001b[0m \u001b[0mnn\u001b[0m\u001b[0;34m.\u001b[0m\u001b[0madd\u001b[0m\u001b[0;34m(\u001b[0m\u001b[0mDense\u001b[0m\u001b[0;34m(\u001b[0m\u001b[0;36m1\u001b[0m\u001b[0;34m,\u001b[0m \u001b[0mactivation\u001b[0m\u001b[0;34m=\u001b[0m\u001b[0;34m'sigmoid'\u001b[0m\u001b[0;34m)\u001b[0m\u001b[0;34m)\u001b[0m\u001b[0;34m\u001b[0m\u001b[0;34m\u001b[0m\u001b[0m\n\u001b[1;32m      8\u001b[0m \u001b[0mnn\u001b[0m\u001b[0;34m.\u001b[0m\u001b[0mcompile\u001b[0m\u001b[0;34m(\u001b[0m\u001b[0moptimizer\u001b[0m\u001b[0;34m=\u001b[0m\u001b[0;34m'adam'\u001b[0m\u001b[0;34m,\u001b[0m\u001b[0mloss\u001b[0m\u001b[0;34m=\u001b[0m\u001b[0;34m'binary_crossentropy'\u001b[0m\u001b[0;34m,\u001b[0m\u001b[0mmetrics\u001b[0m\u001b[0;34m=\u001b[0m\u001b[0;34m[\u001b[0m\u001b[0;34m'binary_accuracy'\u001b[0m\u001b[0;34m]\u001b[0m\u001b[0;34m)\u001b[0m\u001b[0;34m\u001b[0m\u001b[0;34m\u001b[0m\u001b[0m\n\u001b[0;32m----> 9\u001b[0;31m \u001b[0mnn\u001b[0m\u001b[0;34m.\u001b[0m\u001b[0mfit\u001b[0m\u001b[0;34m(\u001b[0m\u001b[0mX_train\u001b[0m\u001b[0;34m,\u001b[0m\u001b[0my_train\u001b[0m\u001b[0;34m,\u001b[0m\u001b[0mepochs\u001b[0m\u001b[0;34m=\u001b[0m\u001b[0;36m10\u001b[0m\u001b[0;34m,\u001b[0m\u001b[0mbatch_size\u001b[0m\u001b[0;34m=\u001b[0m\u001b[0;36m5\u001b[0m\u001b[0;34m)\u001b[0m\u001b[0;34m\u001b[0m\u001b[0;34m\u001b[0m\u001b[0m\n\u001b[0m\u001b[1;32m     10\u001b[0m \u001b[0mplot_roc_conf_matrix\u001b[0m\u001b[0;34m(\u001b[0m\u001b[0my_test\u001b[0m\u001b[0;34m,\u001b[0m\u001b[0mX_test\u001b[0m\u001b[0;34m,\u001b[0m \u001b[0mnn\u001b[0m\u001b[0;34m,\u001b[0m \u001b[0;34m\"Red Neuronal Sencilla\"\u001b[0m\u001b[0;34m)\u001b[0m\u001b[0;34m\u001b[0m\u001b[0;34m\u001b[0m\u001b[0m\n",
            "\u001b[0;31mNameError\u001b[0m: name 'X_train' is not defined"
          ]
        }
      ]
    },
    {
      "cell_type": "code",
      "metadata": {
        "id": "mR5v5bIvZBI4"
      },
      "source": [
        "plt.figure(figsize=(10,10))\r\n",
        "#X,y=get_X_y(df, \"employee_left\")\r\n",
        "#X_train, X_test, y_train, y_test =data_preprocessing_up_or_down_sample(X, y ,\"up\", test_size=0.2)\r\n",
        "\r\n",
        "rocauc_plot(rf_us, \"Random Forest\", y_test, X_test)\r\n",
        "rocauc_plot(knn_no, \"KNN\", y_test, X_test)\r\n",
        "rocauc_plot(nn, \"Red Neuronal sencilla\", y_test, X_test)\r\n",
        "\r\n",
        "rocauc_plot(lr_no, \"Regresión logística\", y_test, X_test)"
      ],
      "execution_count": null,
      "outputs": []
    },
    {
      "cell_type": "markdown",
      "metadata": {
        "id": "VXnbRl9BDUyV"
      },
      "source": [
        "# Tuneo de Hyper Parámetros\r\n",
        "\r\n",
        "Para tunear los hiper parámetros, se define un pipeline general para todos los modelos: se aplica un StandardScaler, y  se realiza un Grid Search para los parámetros definidos, con cross validation de 10.\r\n",
        "\r\n",
        "Para cada modelo, se define el grid de hiper-parámetros relevantes. Se presentan entonces los mejores hiper parámetros encontrados"
      ]
    },
    {
      "cell_type": "code",
      "metadata": {
        "id": "SN6ZCehkI1RM"
      },
      "source": [
        "X,y=get_X_y(df, \"employee_left\")\r\n",
        "X_train, X_test, y_train, y_test =data_preprocessing_up_or_down_sample(X, y , test_size=0.2)"
      ],
      "execution_count": null,
      "outputs": []
    },
    {
      "cell_type": "code",
      "metadata": {
        "id": "JhflliYY1pM0"
      },
      "source": [
        "def pipeline_classifier(X,y,model, param_grid):\r\n",
        "  \"\"\"\r\n",
        "  Creates a general Pipeline for sklearn classifiers.\r\n",
        "  Applies GridSearchCV to optimize hyper parameters of the model.\r\n",
        "\r\n",
        "  Parameters\r\n",
        "  ----------\r\n",
        "  X : {array-like, sparse matrix} of shape (n_samples, n_features)\r\n",
        "      Input values\r\n",
        "  y : {array-like, sparse matrix} of shape (n_samples)\r\n",
        "      Target values\r\n",
        "  model : sklearn.estimator object\r\n",
        "      Instance of an estimator form sklearn.\r\n",
        "  param_grid: dict or list of dictionaries\r\n",
        "      Dictionary with parameters names (str) as keys and lists of parameter \r\n",
        "      settings to try as values, or a list of such dictionaries, in which case \r\n",
        "      the grids spanned by each dictionary in the list are explored. \r\n",
        "      This enables searching over any sequence of parameter settings.\r\n",
        "    \r\n",
        "  Returns\r\n",
        "  -------\r\n",
        "  model : sklearn.estimator instance\r\n",
        "      Fitted classifier or a fitted Pipeline in which the last estimator \r\n",
        "      is a classifier.\r\n",
        "  \"\"\"\r\n",
        "  pipe = make_pipeline(StandardScaler(), model)\r\n",
        "  clf= GridSearchCV(pipe,\r\n",
        "                    param_grid=param_grid,\r\n",
        "                    cv=10,\r\n",
        "                    scoring=\"f1\",\r\n",
        "                    n_jobs=-1)\r\n",
        "  clf.fit(X,y)\r\n",
        "  return clf\r\n"
      ],
      "execution_count": null,
      "outputs": []
    },
    {
      "cell_type": "code",
      "metadata": {
        "id": "Hi0sanNKKQ1p"
      },
      "source": [
        "rf_param_grid = {\r\n",
        "        \"randomforestclassifier__min_samples_leaf\": [1, 3, 5],\r\n",
        "        \"randomforestclassifier__n_estimators\": [50,100, 250],\r\n",
        "        \"randomforestclassifier__criterion\": [\"gini\", \"entropy\"]}\r\n",
        "rf_gs=pipeline_classifier(X_train,y_train,\r\n",
        "                          RandomForestClassifier(class_weight=\"balanced\")\\\r\n",
        "                          ,rf_param_grid )"
      ],
      "execution_count": null,
      "outputs": []
    },
    {
      "cell_type": "code",
      "metadata": {
        "id": "4d7PaBws-qmB"
      },
      "source": [
        "plot_roc_conf_matrix(y_test,X_test, rf_gs, \"Random Forest (GS)\")"
      ],
      "execution_count": null,
      "outputs": []
    },
    {
      "cell_type": "code",
      "metadata": {
        "id": "TP7F0L8fJlrP"
      },
      "source": [
        "lr_param_grid = {\"logisticregression__penalty\": [\"l1\", \"l2\"],\r\n",
        "                   \"logisticregression__C\":  np.arange(0.5, 20, 0.5),\r\n",
        "                   \"logisticregression__fit_intercept\": [True, False]\r\n",
        "                  }\r\n",
        "lr_gs=pipeline_classifier(X_train,y_train,\r\n",
        "                         LogisticRegression(class_weight=\"balanced\"), lr_param_grid )"
      ],
      "execution_count": null,
      "outputs": []
    },
    {
      "cell_type": "code",
      "metadata": {
        "id": "ykfeWO0FF-k2"
      },
      "source": [
        "plot_roc_conf_matrix(y_test,X_test, lr_gs, \"Regresión Logística (GS)\")\r\n"
      ],
      "execution_count": null,
      "outputs": []
    },
    {
      "cell_type": "code",
      "metadata": {
        "id": "k_7PgGeqOjDM"
      },
      "source": [
        "knn_param_grid = {\"kneighborsclassifier__n_neighbors\": range(1, 20),\r\n",
        "                  \"kneighborsclassifier__weights\": [\"uniform\", \"distance\"]}\r\n",
        "knn_gs=pipeline_classifier(X_train,y_train,\r\n",
        "                         KNeighborsClassifier(), knn_param_grid )"
      ],
      "execution_count": null,
      "outputs": []
    },
    {
      "cell_type": "code",
      "metadata": {
        "id": "sHYFXgkKTDIT"
      },
      "source": [
        "knn_gs.best_params_"
      ],
      "execution_count": null,
      "outputs": []
    },
    {
      "cell_type": "code",
      "metadata": {
        "id": "9AzUn3hiF690"
      },
      "source": [
        "plot_roc_conf_matrix(y_test,X_test, knn_gs, \"KNN (GS)\")\r\n"
      ],
      "execution_count": null,
      "outputs": []
    },
    {
      "cell_type": "code",
      "metadata": {
        "id": "HqexVS7C_OZY"
      },
      "source": [
        "from keras.wrappers.scikit_learn import KerasClassifier\r\n",
        "def nn_base_model():\r\n",
        "  nn=Sequential()\r\n",
        "  nn.add(Dense(20, input_dim=20, activation='relu'))\r\n",
        "  nn.add(Dropout(0.15))\r\n",
        "  nn.add(Dense(5, activation='relu'))\r\n",
        "  nn.add(Dense(1, activation='sigmoid'))\r\n",
        "  nn.compile(optimizer='adam',loss='binary_crossentropy',metrics=['binary_accuracy'])\r\n",
        "  return nn\r\n",
        "nn_base=KerasClassifier(build_fn=nn_base_model,verbose=0)"
      ],
      "execution_count": null,
      "outputs": []
    },
    {
      "cell_type": "code",
      "metadata": {
        "id": "y7K8tL3ZDzlS"
      },
      "source": [
        "nn_param_grid = {\"kerasclassifier__epochs\": [5,10,15],\r\n",
        "                 \"kerasclassifier__batch_size\": [5, 10,20]}\r\n",
        "nn_gs=pipeline_classifier(X_train,y_train,\r\n",
        "                         nn_base, nn_param_grid )"
      ],
      "execution_count": null,
      "outputs": []
    },
    {
      "cell_type": "code",
      "metadata": {
        "id": "rwjvNwvJJTT8"
      },
      "source": [
        "nn_gs.best_params_"
      ],
      "execution_count": null,
      "outputs": []
    },
    {
      "cell_type": "code",
      "metadata": {
        "id": "a0c3AiCqIAYJ"
      },
      "source": [
        "plot_roc_conf_matrix(y_test,X_test, nn_gs, \"NN (GS)\")\r\n"
      ],
      "execution_count": null,
      "outputs": []
    },
    {
      "cell_type": "code",
      "metadata": {
        "id": "1xIPyLxPRHt9"
      },
      "source": [
        "plt.figure(figsize=(10,10))\r\n",
        "\r\n",
        "\r\n",
        "rocauc_plot(rf_gs, \"Random Forest\", y_test, X_test)\r\n",
        "rocauc_plot(knn_gs, \"KNN\", y_test, X_test)\r\n",
        "rocauc_plot(lr_gs, \"Regresión logística\", y_test, X_test)\r\n",
        "rocauc_plot(nn_gs, \"Red Neuronal Simple\", y_test, X_test)"
      ],
      "execution_count": null,
      "outputs": []
    },
    {
      "cell_type": "code",
      "metadata": {
        "id": "_anSIEd4q3Oc"
      },
      "source": [
        "plt.figure(figsize=(15, 5))\r\n",
        "imp_df=pd.DataFrame(X.T.iloc[:,1])\r\n",
        "imp_df[1]=rf_gs.best_estimator_[1].feature_importances_\r\n",
        "imp_df=imp_df.rename(columns = {1:'Feature Importance'}).sort_values(by='Feature Importance', ascending=False)\r\n",
        "plt.bar(imp_df.reset_index()['index'], imp_df.reset_index()['Feature Importance'])\r\n",
        "_=plt.xticks( rotation=90)\r\n",
        "plt.title(\"Feature Importance\");"
      ],
      "execution_count": null,
      "outputs": []
    }
  ]
}